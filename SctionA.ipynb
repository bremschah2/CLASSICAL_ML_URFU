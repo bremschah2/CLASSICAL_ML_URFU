{
 "cells": [
  {
   "attachments": {},
   "cell_type": "markdown",
   "metadata": {},
   "source": [
    "1)\n",
    "A. Determine whether a website displays content for a mature audience: This problem involves predicting a binary outcome (whether the website displays content for a mature audience or not) based on certain features or attributes of the website. Supervised learning algorithms like binary classification models can be used to train on labeled data and predict whether a given website falls into the mature or non-mature category.\n",
    "\n",
    "B. Learn the best way to split a group of car buyers into categories based on their buying patterns: This problem involves clustering car buyers into different categories based on their buying patterns. While clustering is typically an unsupervised learning technique, in this case, if we have labeled data where car buyers are already categorized into different groups, then it becomes a supervised learning problem. Supervised learning algorithms like classification models can be used to learn the patterns and assign new car buyers to appropriate categories based on their features.\n",
    "\n",
    "C. Given the medical records from patients suffering a specific illness, learn whether we should split them into different groups for better treatment: This problem involves determining whether patients suffering from a specific illness should be split into different groups for better treatment. Supervised learning can be applied here by training a model on labeled data where patients are already categorized into different treatment groups based on their features and medical records. The model can then predict which group a new patient should be assigned to, based on their medical records and characteristics.\n",
    "\n",
    "D. Predict next year's crop yield taking into account data of the past decade: This problem involves predicting a numerical value (crop yield) based on historical data. Supervised learning techniques like regression can be used to train a model on the past decade's data, considering factors such as weather conditions, soil quality, farming practices, etc., and predict the crop yield for the next year.\n"
   ]
  },
  {
   "attachments": {},
   "cell_type": "markdown",
   "metadata": {},
   "source": [
    "2)\n",
    "The correct statement regarding the difference between Mean Absolute Error (MAE) and Root Mean Squared Error (RMSE) is:\n",
    "\n",
    "c. From both metrics, RMSE is the only one indifferent to the direction of the error.\n",
    "\n"
   ]
  },
  {
   "attachments": {},
   "cell_type": "markdown",
   "metadata": {},
   "source": [
    "3)\n",
    "C. To choose the optimal parameters for a learning algorithm to train a model.\n"
   ]
  },
  {
   "attachments": {},
   "cell_type": "markdown",
   "metadata": {},
   "source": [
    "4)\n",
    "The correct statement defining overfitting and underfitting in simple terms is:\n",
    "\n",
    "A. Overfitting occurs when your model is too complex for your dataset. For example, a very deep neural network trying to learn a few dozen examples with a couple of features.\n",
    "\n"
   ]
  },
  {
   "cell_type": "code",
   "execution_count": null,
   "metadata": {
    "vscode": {
     "languageId": "plaintext"
    }
   },
   "outputs": [],
   "source": [
    "5)\n",
    "\n",
    "The best approach for Noa to build a model to predict what college students will want to apply to at the end of the year, given the available data, would be:\n",
    "\n",
    "A. Noa should use a Decision Tree, a Supervised Learning technique.\n",
    "\n"
   ]
  },
  {
   "attachments": {},
   "cell_type": "markdown",
   "metadata": {},
   "source": [
    "6)\n",
    "The correct statements about these two encoding techniques are:\n",
    "\n",
    "B. One-Hot encoding creates additional features based on the number of unique values in the categorical feature.\n",
    "\n",
    "C. Label encoding replaces each label from the categorical feature with a unique integer based on alphabetical ordering.\n"
   ]
  },
  {
   "attachments": {},
   "cell_type": "markdown",
   "metadata": {},
   "source": [
    "7)\n",
    "The problems that Olga should select as examples of Supervised Learning are:\n",
    "\n",
    "A. Given a dataset of emails and their classification, build an application to determine whether an email is spam.\n",
    "\n",
    "D. Given a dataset of images of circuit boards and whether they work, build an application that determines if a picture of a circuit board corresponds to a working board.\n"
   ]
  },
  {
   "attachments": {},
   "cell_type": "markdown",
   "metadata": {},
   "source": [
    "8)\n",
    "The decision tree would have:\n",
    "\n",
    "C. 2^n leaf nodes.\n",
    "\n",
    "Explanation:\n"
   ]
  },
  {
   "attachments": {},
   "cell_type": "markdown",
   "metadata": {},
   "source": [
    "9)\n",
    "As Sasha decreases the value of K in the k-Nearest Neighbor (KNN) algorithm, she should expect the following:\n",
    "\n",
    "B. As Sasha decreases the value of K, she will increase the algorithm's variance and bias.\n"
   ]
  },
  {
   "attachments": {},
   "cell_type": "markdown",
   "metadata": {},
   "source": [
    "10)\n",
    "\n",
    "To calculate the F1-score of a binary classification model at predicting class A, we need to consider the values from the confusion matrix.\n",
    "\n",
    "To calculate the F1-score, we need to compute the precision and recall for class A:\n",
    "\n",
    "Precision for class A = True Positives (TP) / (True Positives (TP) + False Positives (FP)) = 52 / (52 + 13) = 0.8\n",
    "\n",
    "Recall for class A = True Positives (TP) / (True Positives (TP) + False Negatives (FN)) = 52 / (52 + 7) = 0.881\n",
    "\n",
    "The F1-score is the harmonic mean of precision and recall, given by:\n",
    "\n",
    "F1-score = 2 * (Precision * Recall) / (Precision + Recall)\n",
    "\n",
    "F1-score = 2 * (0.8 * 0.881) / (0.8 + 0.881) = 0.839\n",
    "\n",
    "Therefore, the correct answer is:\n",
    "\n",
    "C. The f1-score of the model at predicting class A is 84%.\n"
   ]
  }
 ],
 "metadata": {
  "language_info": {
   "name": "python"
  },
  "orig_nbformat": 4
 },
 "nbformat": 4,
 "nbformat_minor": 2
}
